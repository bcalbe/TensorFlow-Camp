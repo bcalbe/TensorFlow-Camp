{
 "cells": [
  {
   "cell_type": "code",
   "execution_count": 1,
   "metadata": {},
   "outputs": [],
   "source": [
    "from sklearn import datasets\n",
    "import numpy as np\n",
    "iris = datasets.load_iris()\n",
    "data = iris.data\n",
    "labels = iris.target\n",
    "data = np.concatenate((data,labels.reshape(150,1)),axis=-1)\n",
    "np.random.shuffle(data)"
   ]
  },
  {
   "cell_type": "code",
   "execution_count": 2,
   "metadata": {},
   "outputs": [],
   "source": [
    "Y = data[:,-1]\n",
    "X = data[:,:4]"
   ]
  },
  {
   "cell_type": "markdown",
   "metadata": {},
   "source": [
    "### 备注X是特征，Y是label。"
   ]
  },
  {
   "cell_type": "code",
   "execution_count": 3,
   "metadata": {
    "tags": [
     "outputPrepend"
    ]
   },
   "outputs": [],
   "source": [
    "import tensorflow as tf\n",
    "import tensorflow.keras as keras\n",
    "import tensorflow.keras.layers as layers"
   ]
  },
  {
   "cell_type": "code",
   "execution_count": 4,
   "metadata": {},
   "outputs": [],
   "source": [
    "##此处需定义模型\n",
    "#三种模型分别尝试\n",
    "model  = keras.Sequential()\n",
    "model.add(layers.Dense(64,activation = 'relu'))\n",
    "model.add(layers.Dense(256, activation = 'relu'))\n",
    "model.add(layers.Dense(3,activation = 'relu'))"
   ]
  },
  {
   "cell_type": "code",
   "execution_count": null,
   "metadata": {},
   "outputs": [],
   "source": [
    "inputs = keras.Input(shape=(4,))\n",
    "x1 = layers.Dense(64,activation = 'relu')(inputs)\n",
    "x2 = layers.Dense(256,activation = 'relu')(x1)\n",
    "x3 = layers.Dense(3,activation = 'relu')(x2)"
   ]
  },
  {
   "cell_type": "code",
   "execution_count": 8,
   "metadata": {},
   "outputs": [
    {
     "output_type": "stream",
     "name": "stdout",
     "text": "Train on 150 samples\nEpoch 1/100\n150/150 [==============================] - 0s 3ms/sample - loss: 3.2958 - categorical_accuracy: 1.0000\nEpoch 2/100\n150/150 [==============================] - 0s 160us/sample - loss: 3.2958 - categorical_accuracy: 1.0000\nEpoch 3/100\n150/150 [==============================] - 0s 133us/sample - loss: 3.2958 - categorical_accuracy: 1.0000\nEpoch 4/100\n150/150 [==============================] - 0s 133us/sample - loss: 3.2958 - categorical_accuracy: 1.0000\nEpoch 5/100\n150/150 [==============================] - 0s 133us/sample - loss: 3.2958 - categorical_accuracy: 1.0000\nEpoch 6/100\n150/150 [==============================] - 0s 136us/sample - loss: 3.2958 - categorical_accuracy: 1.0000\nEpoch 7/100\n150/150 [==============================] - 0s 126us/sample - loss: 3.2958 - categorical_accuracy: 1.0000\nEpoch 8/100\n150/150 [==============================] - 0s 126us/sample - loss: 3.2958 - categorical_accuracy: 1.0000\nEpoch 9/100\n150/150 [==============================] - 0s 146us/sample - loss: 3.2958 - categorical_accuracy: 1.0000\nEpoch 10/100\n150/150 [==============================] - 0s 133us/sample - loss: 3.2958 - categorical_accuracy: 1.0000\nEpoch 11/100\n150/150 [==============================] - 0s 146us/sample - loss: 3.2958 - categorical_accuracy: 1.0000\nEpoch 12/100\n150/150 [==============================] - 0s 140us/sample - loss: 3.2958 - categorical_accuracy: 1.0000\nEpoch 13/100\n150/150 [==============================] - 0s 146us/sample - loss: 3.2958 - categorical_accuracy: 1.0000\nEpoch 14/100\n150/150 [==============================] - 0s 146us/sample - loss: 3.2958 - categorical_accuracy: 1.0000\nEpoch 15/100\n150/150 [==============================] - 0s 120us/sample - loss: 3.2958 - categorical_accuracy: 1.0000\nEpoch 16/100\n150/150 [==============================] - 0s 153us/sample - loss: 3.2958 - categorical_accuracy: 1.0000\nEpoch 17/100\n150/150 [==============================] - 0s 146us/sample - loss: 3.2958 - categorical_accuracy: 1.0000\nEpoch 18/100\n150/150 [==============================] - 0s 140us/sample - loss: 3.2958 - categorical_accuracy: 1.0000\nEpoch 19/100\n150/150 [==============================] - 0s 133us/sample - loss: 3.2958 - categorical_accuracy: 1.0000\nEpoch 20/100\n150/150 [==============================] - 0s 213us/sample - loss: 3.2958 - categorical_accuracy: 1.0000\nEpoch 21/100\n150/150 [==============================] - 0s 133us/sample - loss: 3.2958 - categorical_accuracy: 1.0000\nEpoch 22/100\n150/150 [==============================] - 0s 120us/sample - loss: 3.2958 - categorical_accuracy: 1.0000\nEpoch 23/100\n150/150 [==============================] - 0s 133us/sample - loss: 3.2958 - categorical_accuracy: 1.0000\nEpoch 24/100\n150/150 [==============================] - 0s 126us/sample - loss: 3.2958 - categorical_accuracy: 1.0000\nEpoch 25/100\n150/150 [==============================] - 0s 130us/sample - loss: 3.2958 - categorical_accuracy: 1.0000\nEpoch 26/100\n150/150 [==============================] - 0s 133us/sample - loss: 3.2958 - categorical_accuracy: 1.0000\nEpoch 27/100\n150/150 [==============================] - 0s 146us/sample - loss: 3.2958 - categorical_accuracy: 1.0000\nEpoch 28/100\n150/150 [==============================] - 0s 126us/sample - loss: 3.2958 - categorical_accuracy: 1.0000\nEpoch 29/100\n150/150 [==============================] - 0s 126us/sample - loss: 3.2958 - categorical_accuracy: 1.0000\nEpoch 30/100\n150/150 [==============================] - 0s 166us/sample - loss: 3.2958 - categorical_accuracy: 1.0000\nEpoch 31/100\n150/150 [==============================] - 0s 140us/sample - loss: 3.2958 - categorical_accuracy: 1.0000\nEpoch 32/100\n150/150 [==============================] - 0s 140us/sample - loss: 3.2958 - categorical_accuracy: 1.0000\nEpoch 33/100\n150/150 [==============================] - 0s 126us/sample - loss: 3.2958 - categorical_accuracy: 1.0000\nEpoch 34/100\n150/150 [==============================] - 0s 126us/sample - loss: 3.2958 - categorical_accuracy: 1.0000\nEpoch 35/100\n150/150 [==============================] - 0s 146us/sample - loss: 3.2958 - categorical_accuracy: 1.0000\nEpoch 36/100\n150/150 [==============================] - 0s 126us/sample - loss: 3.2958 - categorical_accuracy: 1.0000\nEpoch 37/100\n150/150 [==============================] - 0s 133us/sample - loss: 3.2958 - categorical_accuracy: 1.0000\nEpoch 38/100\n150/150 [==============================] - 0s 140us/sample - loss: 3.2958 - categorical_accuracy: 1.0000\nEpoch 39/100\n150/150 [==============================] - 0s 160us/sample - loss: 3.2958 - categorical_accuracy: 1.0000\nEpoch 40/100\n150/150 [==============================] - 0s 146us/sample - loss: 3.2958 - categorical_accuracy: 1.0000\nEpoch 41/100\n150/150 [==============================] - 0s 146us/sample - loss: 3.2958 - categorical_accuracy: 1.0000\nEpoch 42/100\n150/150 [==============================] - 0s 146us/sample - loss: 3.2958 - categorical_accuracy: 1.0000\nEpoch 43/100\n150/150 [==============================] - 0s 166us/sample - loss: 3.2958 - categorical_accuracy: 1.0000\nEpoch 44/100\n150/150 [==============================] - 0s 146us/sample - loss: 3.2958 - categorical_accuracy: 1.0000\nEpoch 45/100\n150/150 [==============================] - 0s 153us/sample - loss: 3.2958 - categorical_accuracy: 1.0000\nEpoch 46/100\n150/150 [==============================] - 0s 126us/sample - loss: 3.2958 - categorical_accuracy: 1.0000\nEpoch 47/100\n150/150 [==============================] - 0s 133us/sample - loss: 3.2958 - categorical_accuracy: 1.0000\nEpoch 48/100\n150/150 [==============================] - 0s 160us/sample - loss: 3.2958 - categorical_accuracy: 1.0000\nEpoch 49/100\n150/150 [==============================] - 0s 120us/sample - loss: 3.2958 - categorical_accuracy: 1.0000\nEpoch 50/100\n150/150 [==============================] - 0s 126us/sample - loss: 3.2958 - categorical_accuracy: 1.0000\nEpoch 51/100\n150/150 [==============================] - 0s 153us/sample - loss: 3.2958 - categorical_accuracy: 1.0000\nEpoch 52/100\n150/150 [==============================] - 0s 126us/sample - loss: 3.2958 - categorical_accuracy: 1.0000\nEpoch 53/100\n150/150 [==============================] - 0s 126us/sample - loss: 3.2958 - categorical_accuracy: 1.0000\nEpoch 54/100\n150/150 [==============================] - 0s 153us/sample - loss: 3.2958 - categorical_accuracy: 1.0000\nEpoch 55/100\n150/150 [==============================] - 0s 130us/sample - loss: 3.2958 - categorical_accuracy: 1.0000\nEpoch 56/100\n150/150 [==============================] - 0s 133us/sample - loss: 3.2958 - categorical_accuracy: 1.0000\nEpoch 57/100\n150/150 [==============================] - 0s 120us/sample - loss: 3.2958 - categorical_accuracy: 1.0000\nEpoch 58/100\n150/150 [==============================] - 0s 160us/sample - loss: 3.2958 - categorical_accuracy: 1.0000\nEpoch 59/100\n 32/150 [=====>........................] - ETA: 0s - loss: 3.0898 - categorical_accuracy: 1.00150/150 [==============================] - 0s 126us/sample - loss: 3.2958 - categorical_accuracy: 1.0000\nEpoch 60/100\n150/150 [==============================] - 0s 166us/sample - loss: 3.2958 - categorical_accuracy: 1.0000\nEpoch 61/100\n150/150 [==============================] - 0s 126us/sample - loss: 3.2958 - categorical_accuracy: 1.0000\nEpoch 62/100\n150/150 [==============================] - 0s 146us/sample - loss: 3.2958 - categorical_accuracy: 1.0000\nEpoch 63/100\n150/150 [==============================] - 0s 133us/sample - loss: 3.2958 - categorical_accuracy: 1.0000\nEpoch 64/100\n150/150 [==============================] - 0s 133us/sample - loss: 3.2958 - categorical_accuracy: 1.0000\nEpoch 65/100\n150/150 [==============================] - 0s 166us/sample - loss: 3.2958 - categorical_accuracy: 1.0000\nEpoch 66/100\n150/150 [==============================] - 0s 133us/sample - loss: 3.2958 - categorical_accuracy: 1.0000\nEpoch 67/100\n150/150 [==============================] - 0s 153us/sample - loss: 3.2958 - categorical_accuracy: 1.0000\nEpoch 68/100\n150/150 [==============================] - 0s 146us/sample - loss: 3.2958 - categorical_accuracy: 1.0000\nEpoch 69/100\n150/150 [==============================] - 0s 133us/sample - loss: 3.2958 - categorical_accuracy: 1.0000\nEpoch 70/100\n150/150 [==============================] - 0s 140us/sample - loss: 3.2958 - categorical_accuracy: 1.0000\nEpoch 71/100\n150/150 [==============================] - 0s 140us/sample - loss: 3.2958 - categorical_accuracy: 1.0000\nEpoch 72/100\n150/150 [==============================] - 0s 120us/sample - loss: 3.2958 - categorical_accuracy: 1.0000\nEpoch 73/100\n150/150 [==============================] - 0s 126us/sample - loss: 3.2958 - categorical_accuracy: 1.0000\nEpoch 74/100\n150/150 [==============================] - 0s 113us/sample - loss: 3.2958 - categorical_accuracy: 1.0000\nEpoch 75/100\n150/150 [==============================] - 0s 146us/sample - loss: 3.2958 - categorical_accuracy: 1.0000\nEpoch 76/100\n150/150 [==============================] - 0s 133us/sample - loss: 3.2958 - categorical_accuracy: 1.0000\nEpoch 77/100\n150/150 [==============================] - 0s 120us/sample - loss: 3.2958 - categorical_accuracy: 1.0000\nEpoch 78/100\n150/150 [==============================] - 0s 153us/sample - loss: 3.2958 - categorical_accuracy: 1.0000\nEpoch 79/100\n150/150 [==============================] - 0s 193us/sample - loss: 3.2958 - categorical_accuracy: 1.0000\nEpoch 80/100\n150/150 [==============================] - 0s 166us/sample - loss: 3.2958 - categorical_accuracy: 1.0000\nEpoch 81/100\n150/150 [==============================] - 0s 113us/sample - loss: 3.2958 - categorical_accuracy: 1.0000\nEpoch 82/100\n150/150 [==============================] - 0s 126us/sample - loss: 3.2958 - categorical_accuracy: 1.0000\nEpoch 83/100\n150/150 [==============================] - 0s 126us/sample - loss: 3.2958 - categorical_accuracy: 1.0000\nEpoch 84/100\n150/150 [==============================] - 0s 126us/sample - loss: 3.2958 - categorical_accuracy: 1.0000\nEpoch 85/100\n150/150 [==============================] - 0s 133us/sample - loss: 3.2958 - categorical_accuracy: 1.0000\nEpoch 86/100\n150/150 [==============================] - 0s 120us/sample - loss: 3.2958 - categorical_accuracy: 1.0000\nEpoch 87/100\n150/150 [==============================] - 0s 146us/sample - loss: 3.2958 - categorical_accuracy: 1.0000\nEpoch 88/100\n150/150 [==============================] - 0s 120us/sample - loss: 3.2958 - categorical_accuracy: 1.0000\nEpoch 89/100\n150/150 [==============================] - 0s 133us/sample - loss: 3.2958 - categorical_accuracy: 1.0000\nEpoch 90/100\n150/150 [==============================] - 0s 133us/sample - loss: 3.2958 - categorical_accuracy: 1.0000\nEpoch 91/100\n150/150 [==============================] - 0s 146us/sample - loss: 3.2958 - categorical_accuracy: 1.0000\nEpoch 92/100\n150/150 [==============================] - 0s 126us/sample - loss: 3.2958 - categorical_accuracy: 1.0000\nEpoch 93/100\n150/150 [==============================] - 0s 120us/sample - loss: 3.2958 - categorical_accuracy: 1.0000\nEpoch 94/100\n150/150 [==============================] - 0s 113us/sample - loss: 3.2958 - categorical_accuracy: 1.0000\nEpoch 95/100\n150/150 [==============================] - 0s 106us/sample - loss: 3.2958 - categorical_accuracy: 1.0000\nEpoch 96/100\n150/150 [==============================] - 0s 133us/sample - loss: 3.2958 - categorical_accuracy: 1.0000\nEpoch 97/100\n150/150 [==============================] - 0s 126us/sample - loss: 3.2958 - categorical_accuracy: 1.0000\nEpoch 98/100\n150/150 [==============================] - 0s 113us/sample - loss: 3.2958 - categorical_accuracy: 1.0000\nEpoch 99/100\n150/150 [==============================] - 0s 133us/sample - loss: 3.2958 - categorical_accuracy: 1.0000\nEpoch 100/100\n150/150 [==============================] - 0s 146us/sample - loss: 3.2958 - categorical_accuracy: 1.0000\n"
    },
    {
     "output_type": "execute_result",
     "data": {
      "text/plain": "<tensorflow.python.keras.callbacks.History at 0x2268a00ed48>"
     },
     "metadata": {},
     "execution_count": 8
    }
   ],
   "source": [
    "####模型训练\n",
    "model.compile(optimizer=tf.keras.optimizers.Adam(),\n",
    "              loss=tf.keras.losses.CategoricalCrossentropy(from_logits=True),\n",
    "              metrics=[tf.keras.metrics.CategoricalAccuracy()])\n",
    "\n",
    "#keras\n",
    "model.fit(X, Y, batch_size=32, epochs=100,shuffle=True,verbose = 1)"
   ]
  },
  {
   "cell_type": "code",
   "execution_count": null,
   "metadata": {},
   "outputs": [],
   "source": []
  }
 ],
 "metadata": {
  "kernelspec": {
   "display_name": "Python 3.7.7 64-bit ('tensorflow': conda)",
   "language": "python",
   "name": "python37764bittensorflowcondac03e494b497547649edc2d3deae885b3"
  },
  "language_info": {
   "codemirror_mode": {
    "name": "ipython",
    "version": 3
   },
   "file_extension": ".py",
   "mimetype": "text/x-python",
   "name": "python",
   "nbconvert_exporter": "python",
   "pygments_lexer": "ipython3",
   "version": "3.7.7-final"
  }
 },
 "nbformat": 4,
 "nbformat_minor": 4
}